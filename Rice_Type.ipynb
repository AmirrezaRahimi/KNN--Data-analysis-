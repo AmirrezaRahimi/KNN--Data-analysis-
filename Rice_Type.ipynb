{
 "cells": [
  {
   "cell_type": "code",
   "execution_count": 1,
   "id": "57068852",
   "metadata": {},
   "outputs": [],
   "source": [
    "import pandas as pd"
   ]
  },
  {
   "cell_type": "markdown",
   "id": "7b7f198e",
   "metadata": {},
   "source": [
    "## بخش اول"
   ]
  },
  {
   "cell_type": "code",
   "execution_count": 2,
   "id": "d8a497ce",
   "metadata": {},
   "outputs": [],
   "source": [
    "rice_df = pd.read_csv('Rice_Cammeo_Osmancik.csv')"
   ]
  },
  {
   "cell_type": "markdown",
   "id": "9c8c96de",
   "metadata": {},
   "source": [
    "## بخش دوم"
   ]
  },
  {
   "cell_type": "code",
   "execution_count": 3,
   "id": "dc3bb45c",
   "metadata": {},
   "outputs": [
    {
     "data": {
      "text/html": [
       "<div>\n",
       "<style scoped>\n",
       "    .dataframe tbody tr th:only-of-type {\n",
       "        vertical-align: middle;\n",
       "    }\n",
       "\n",
       "    .dataframe tbody tr th {\n",
       "        vertical-align: top;\n",
       "    }\n",
       "\n",
       "    .dataframe thead th {\n",
       "        text-align: right;\n",
       "    }\n",
       "</style>\n",
       "<table border=\"1\" class=\"dataframe\">\n",
       "  <thead>\n",
       "    <tr style=\"text-align: right;\">\n",
       "      <th></th>\n",
       "      <th>Area</th>\n",
       "      <th>Perimeter</th>\n",
       "      <th>Major_Axis_Length</th>\n",
       "      <th>Minor_Axis_Length</th>\n",
       "      <th>Eccentricity</th>\n",
       "      <th>Convex_Area</th>\n",
       "      <th>Extent</th>\n",
       "      <th>Class</th>\n",
       "    </tr>\n",
       "  </thead>\n",
       "  <tbody>\n",
       "    <tr>\n",
       "      <th>0</th>\n",
       "      <td>15231</td>\n",
       "      <td>525.578979</td>\n",
       "      <td>229.749878</td>\n",
       "      <td>85.093788</td>\n",
       "      <td>0.928882</td>\n",
       "      <td>15617</td>\n",
       "      <td>0.572896</td>\n",
       "      <td>Cammeo</td>\n",
       "    </tr>\n",
       "    <tr>\n",
       "      <th>1</th>\n",
       "      <td>14656</td>\n",
       "      <td>494.311005</td>\n",
       "      <td>206.020065</td>\n",
       "      <td>91.730972</td>\n",
       "      <td>0.895405</td>\n",
       "      <td>15072</td>\n",
       "      <td>0.615436</td>\n",
       "      <td>Cammeo</td>\n",
       "    </tr>\n",
       "    <tr>\n",
       "      <th>2</th>\n",
       "      <td>14634</td>\n",
       "      <td>501.122009</td>\n",
       "      <td>214.106781</td>\n",
       "      <td>87.768288</td>\n",
       "      <td>0.912118</td>\n",
       "      <td>14954</td>\n",
       "      <td>0.693259</td>\n",
       "      <td>Cammeo</td>\n",
       "    </tr>\n",
       "    <tr>\n",
       "      <th>3</th>\n",
       "      <td>13176</td>\n",
       "      <td>458.342987</td>\n",
       "      <td>193.337387</td>\n",
       "      <td>87.448395</td>\n",
       "      <td>0.891861</td>\n",
       "      <td>13368</td>\n",
       "      <td>0.640669</td>\n",
       "      <td>Cammeo</td>\n",
       "    </tr>\n",
       "    <tr>\n",
       "      <th>4</th>\n",
       "      <td>14688</td>\n",
       "      <td>507.166992</td>\n",
       "      <td>211.743378</td>\n",
       "      <td>89.312454</td>\n",
       "      <td>0.906691</td>\n",
       "      <td>15262</td>\n",
       "      <td>0.646024</td>\n",
       "      <td>Cammeo</td>\n",
       "    </tr>\n",
       "    <tr>\n",
       "      <th>5</th>\n",
       "      <td>13479</td>\n",
       "      <td>477.015991</td>\n",
       "      <td>200.053055</td>\n",
       "      <td>86.650291</td>\n",
       "      <td>0.901328</td>\n",
       "      <td>13786</td>\n",
       "      <td>0.657897</td>\n",
       "      <td>Cammeo</td>\n",
       "    </tr>\n",
       "    <tr>\n",
       "      <th>6</th>\n",
       "      <td>15757</td>\n",
       "      <td>509.281006</td>\n",
       "      <td>207.296677</td>\n",
       "      <td>98.336136</td>\n",
       "      <td>0.880323</td>\n",
       "      <td>16150</td>\n",
       "      <td>0.589708</td>\n",
       "      <td>Cammeo</td>\n",
       "    </tr>\n",
       "    <tr>\n",
       "      <th>7</th>\n",
       "      <td>16405</td>\n",
       "      <td>526.570007</td>\n",
       "      <td>221.612518</td>\n",
       "      <td>95.436707</td>\n",
       "      <td>0.902521</td>\n",
       "      <td>16837</td>\n",
       "      <td>0.658888</td>\n",
       "      <td>Cammeo</td>\n",
       "    </tr>\n",
       "    <tr>\n",
       "      <th>8</th>\n",
       "      <td>14534</td>\n",
       "      <td>483.640991</td>\n",
       "      <td>196.650818</td>\n",
       "      <td>95.050682</td>\n",
       "      <td>0.875429</td>\n",
       "      <td>14932</td>\n",
       "      <td>0.649651</td>\n",
       "      <td>Cammeo</td>\n",
       "    </tr>\n",
       "    <tr>\n",
       "      <th>9</th>\n",
       "      <td>13485</td>\n",
       "      <td>471.570007</td>\n",
       "      <td>198.272644</td>\n",
       "      <td>87.727287</td>\n",
       "      <td>0.896789</td>\n",
       "      <td>13734</td>\n",
       "      <td>0.572320</td>\n",
       "      <td>Cammeo</td>\n",
       "    </tr>\n",
       "  </tbody>\n",
       "</table>\n",
       "</div>"
      ],
      "text/plain": [
       "    Area   Perimeter  Major_Axis_Length  Minor_Axis_Length  Eccentricity  \\\n",
       "0  15231  525.578979         229.749878          85.093788      0.928882   \n",
       "1  14656  494.311005         206.020065          91.730972      0.895405   \n",
       "2  14634  501.122009         214.106781          87.768288      0.912118   \n",
       "3  13176  458.342987         193.337387          87.448395      0.891861   \n",
       "4  14688  507.166992         211.743378          89.312454      0.906691   \n",
       "5  13479  477.015991         200.053055          86.650291      0.901328   \n",
       "6  15757  509.281006         207.296677          98.336136      0.880323   \n",
       "7  16405  526.570007         221.612518          95.436707      0.902521   \n",
       "8  14534  483.640991         196.650818          95.050682      0.875429   \n",
       "9  13485  471.570007         198.272644          87.727287      0.896789   \n",
       "\n",
       "   Convex_Area    Extent   Class  \n",
       "0        15617  0.572896  Cammeo  \n",
       "1        15072  0.615436  Cammeo  \n",
       "2        14954  0.693259  Cammeo  \n",
       "3        13368  0.640669  Cammeo  \n",
       "4        15262  0.646024  Cammeo  \n",
       "5        13786  0.657897  Cammeo  \n",
       "6        16150  0.589708  Cammeo  \n",
       "7        16837  0.658888  Cammeo  \n",
       "8        14932  0.649651  Cammeo  \n",
       "9        13734  0.572320  Cammeo  "
      ]
     },
     "execution_count": 3,
     "metadata": {},
     "output_type": "execute_result"
    }
   ],
   "source": [
    "rice_df[0:10]"
   ]
  },
  {
   "cell_type": "code",
   "execution_count": 4,
   "id": "35fdfa1d",
   "metadata": {},
   "outputs": [
    {
     "data": {
      "text/html": [
       "<div>\n",
       "<style scoped>\n",
       "    .dataframe tbody tr th:only-of-type {\n",
       "        vertical-align: middle;\n",
       "    }\n",
       "\n",
       "    .dataframe tbody tr th {\n",
       "        vertical-align: top;\n",
       "    }\n",
       "\n",
       "    .dataframe thead th {\n",
       "        text-align: right;\n",
       "    }\n",
       "</style>\n",
       "<table border=\"1\" class=\"dataframe\">\n",
       "  <thead>\n",
       "    <tr style=\"text-align: right;\">\n",
       "      <th></th>\n",
       "      <th>Area</th>\n",
       "      <th>Perimeter</th>\n",
       "      <th>Major_Axis_Length</th>\n",
       "      <th>Minor_Axis_Length</th>\n",
       "      <th>Eccentricity</th>\n",
       "      <th>Convex_Area</th>\n",
       "      <th>Extent</th>\n",
       "    </tr>\n",
       "  </thead>\n",
       "  <tbody>\n",
       "    <tr>\n",
       "      <th>0</th>\n",
       "      <td>15231</td>\n",
       "      <td>525.578979</td>\n",
       "      <td>229.749878</td>\n",
       "      <td>85.093788</td>\n",
       "      <td>0.928882</td>\n",
       "      <td>15617</td>\n",
       "      <td>0.572896</td>\n",
       "    </tr>\n",
       "    <tr>\n",
       "      <th>1</th>\n",
       "      <td>14656</td>\n",
       "      <td>494.311005</td>\n",
       "      <td>206.020065</td>\n",
       "      <td>91.730972</td>\n",
       "      <td>0.895405</td>\n",
       "      <td>15072</td>\n",
       "      <td>0.615436</td>\n",
       "    </tr>\n",
       "    <tr>\n",
       "      <th>2</th>\n",
       "      <td>14634</td>\n",
       "      <td>501.122009</td>\n",
       "      <td>214.106781</td>\n",
       "      <td>87.768288</td>\n",
       "      <td>0.912118</td>\n",
       "      <td>14954</td>\n",
       "      <td>0.693259</td>\n",
       "    </tr>\n",
       "    <tr>\n",
       "      <th>3</th>\n",
       "      <td>13176</td>\n",
       "      <td>458.342987</td>\n",
       "      <td>193.337387</td>\n",
       "      <td>87.448395</td>\n",
       "      <td>0.891861</td>\n",
       "      <td>13368</td>\n",
       "      <td>0.640669</td>\n",
       "    </tr>\n",
       "    <tr>\n",
       "      <th>4</th>\n",
       "      <td>14688</td>\n",
       "      <td>507.166992</td>\n",
       "      <td>211.743378</td>\n",
       "      <td>89.312454</td>\n",
       "      <td>0.906691</td>\n",
       "      <td>15262</td>\n",
       "      <td>0.646024</td>\n",
       "    </tr>\n",
       "    <tr>\n",
       "      <th>5</th>\n",
       "      <td>13479</td>\n",
       "      <td>477.015991</td>\n",
       "      <td>200.053055</td>\n",
       "      <td>86.650291</td>\n",
       "      <td>0.901328</td>\n",
       "      <td>13786</td>\n",
       "      <td>0.657897</td>\n",
       "    </tr>\n",
       "    <tr>\n",
       "      <th>6</th>\n",
       "      <td>15757</td>\n",
       "      <td>509.281006</td>\n",
       "      <td>207.296677</td>\n",
       "      <td>98.336136</td>\n",
       "      <td>0.880323</td>\n",
       "      <td>16150</td>\n",
       "      <td>0.589708</td>\n",
       "    </tr>\n",
       "    <tr>\n",
       "      <th>7</th>\n",
       "      <td>16405</td>\n",
       "      <td>526.570007</td>\n",
       "      <td>221.612518</td>\n",
       "      <td>95.436707</td>\n",
       "      <td>0.902521</td>\n",
       "      <td>16837</td>\n",
       "      <td>0.658888</td>\n",
       "    </tr>\n",
       "    <tr>\n",
       "      <th>8</th>\n",
       "      <td>14534</td>\n",
       "      <td>483.640991</td>\n",
       "      <td>196.650818</td>\n",
       "      <td>95.050682</td>\n",
       "      <td>0.875429</td>\n",
       "      <td>14932</td>\n",
       "      <td>0.649651</td>\n",
       "    </tr>\n",
       "    <tr>\n",
       "      <th>9</th>\n",
       "      <td>13485</td>\n",
       "      <td>471.570007</td>\n",
       "      <td>198.272644</td>\n",
       "      <td>87.727287</td>\n",
       "      <td>0.896789</td>\n",
       "      <td>13734</td>\n",
       "      <td>0.572320</td>\n",
       "    </tr>\n",
       "  </tbody>\n",
       "</table>\n",
       "</div>"
      ],
      "text/plain": [
       "    Area   Perimeter  Major_Axis_Length  Minor_Axis_Length  Eccentricity  \\\n",
       "0  15231  525.578979         229.749878          85.093788      0.928882   \n",
       "1  14656  494.311005         206.020065          91.730972      0.895405   \n",
       "2  14634  501.122009         214.106781          87.768288      0.912118   \n",
       "3  13176  458.342987         193.337387          87.448395      0.891861   \n",
       "4  14688  507.166992         211.743378          89.312454      0.906691   \n",
       "5  13479  477.015991         200.053055          86.650291      0.901328   \n",
       "6  15757  509.281006         207.296677          98.336136      0.880323   \n",
       "7  16405  526.570007         221.612518          95.436707      0.902521   \n",
       "8  14534  483.640991         196.650818          95.050682      0.875429   \n",
       "9  13485  471.570007         198.272644          87.727287      0.896789   \n",
       "\n",
       "   Convex_Area    Extent  \n",
       "0        15617  0.572896  \n",
       "1        15072  0.615436  \n",
       "2        14954  0.693259  \n",
       "3        13368  0.640669  \n",
       "4        15262  0.646024  \n",
       "5        13786  0.657897  \n",
       "6        16150  0.589708  \n",
       "7        16837  0.658888  \n",
       "8        14932  0.649651  \n",
       "9        13734  0.572320  "
      ]
     },
     "execution_count": 4,
     "metadata": {},
     "output_type": "execute_result"
    }
   ],
   "source": [
    "df = rice_df.drop(['Class'],axis=1)\n",
    "df[0:10]"
   ]
  },
  {
   "cell_type": "code",
   "execution_count": 5,
   "id": "83a475f6",
   "metadata": {},
   "outputs": [
    {
     "name": "stdout",
     "output_type": "stream",
     "text": [
      "<class 'pandas.core.frame.DataFrame'>\n",
      "RangeIndex: 3810 entries, 0 to 3809\n",
      "Data columns (total 7 columns):\n",
      " #   Column             Non-Null Count  Dtype  \n",
      "---  ------             --------------  -----  \n",
      " 0   Area               3810 non-null   int64  \n",
      " 1   Perimeter          3810 non-null   float64\n",
      " 2   Major_Axis_Length  3810 non-null   float64\n",
      " 3   Minor_Axis_Length  3810 non-null   float64\n",
      " 4   Eccentricity       3810 non-null   float64\n",
      " 5   Convex_Area        3810 non-null   int64  \n",
      " 6   Extent             3810 non-null   float64\n",
      "dtypes: float64(5), int64(2)\n",
      "memory usage: 208.5 KB\n"
     ]
    }
   ],
   "source": [
    "df.info()"
   ]
  },
  {
   "cell_type": "code",
   "execution_count": 6,
   "id": "da8be5d0",
   "metadata": {},
   "outputs": [
    {
     "name": "stdout",
     "output_type": "stream",
     "text": [
      "min: \n"
     ]
    },
    {
     "data": {
      "text/plain": [
       "Area                 7551.000000\n",
       "Perimeter             359.100006\n",
       "Major_Axis_Length     145.264465\n",
       "Minor_Axis_Length      59.532406\n",
       "Eccentricity            0.777233\n",
       "Convex_Area          7723.000000\n",
       "Extent                  0.497413\n",
       "dtype: float64"
      ]
     },
     "execution_count": 6,
     "metadata": {},
     "output_type": "execute_result"
    }
   ],
   "source": [
    "print('min: ')\n",
    "df.min()"
   ]
  },
  {
   "cell_type": "code",
   "execution_count": 7,
   "id": "8f905921",
   "metadata": {},
   "outputs": [
    {
     "name": "stdout",
     "output_type": "stream",
     "text": [
      "max: \n"
     ]
    },
    {
     "data": {
      "text/plain": [
       "Area                 18913.000000\n",
       "Perimeter              548.445984\n",
       "Major_Axis_Length      239.010498\n",
       "Minor_Axis_Length      107.542450\n",
       "Eccentricity             0.948007\n",
       "Convex_Area          19099.000000\n",
       "Extent                   0.861050\n",
       "dtype: float64"
      ]
     },
     "execution_count": 7,
     "metadata": {},
     "output_type": "execute_result"
    }
   ],
   "source": [
    "print('max: ')\n",
    "df.max()"
   ]
  },
  {
   "cell_type": "markdown",
   "id": "cd33bd3d",
   "metadata": {},
   "source": [
    "## بخش سوم"
   ]
  },
  {
   "cell_type": "code",
   "execution_count": 8,
   "id": "aa1a2258",
   "metadata": {},
   "outputs": [
    {
     "name": "stdout",
     "output_type": "stream",
     "text": [
      "mean:\n",
      "Area                 12667.727559\n",
      "Perimeter              454.239180\n",
      "Major_Axis_Length      188.776222\n",
      "Minor_Axis_Length       86.313750\n",
      "Eccentricity             0.886871\n",
      "Convex_Area          12952.496850\n",
      "Extent                   0.661934\n",
      "dtype: float64\n",
      "\n",
      "standard deviation:\n",
      "Area                 1732.367706\n",
      "Perimeter              35.597081\n",
      "Major_Axis_Length      17.448679\n",
      "Minor_Axis_Length       5.729817\n",
      "Eccentricity            0.020818\n",
      "Convex_Area          1776.972042\n",
      "Extent                  0.077239\n",
      "dtype: float64\n"
     ]
    }
   ],
   "source": [
    "print('mean:')\n",
    "print(df.mean(),end ='\\n\\n')\n",
    "print('standard deviation:')\n",
    "print(df.std())"
   ]
  },
  {
   "cell_type": "code",
   "execution_count": 9,
   "id": "a74271d1",
   "metadata": {
    "scrolled": true
   },
   "outputs": [
    {
     "data": {
      "text/html": [
       "<div>\n",
       "<style scoped>\n",
       "    .dataframe tbody tr th:only-of-type {\n",
       "        vertical-align: middle;\n",
       "    }\n",
       "\n",
       "    .dataframe tbody tr th {\n",
       "        vertical-align: top;\n",
       "    }\n",
       "\n",
       "    .dataframe thead th {\n",
       "        text-align: right;\n",
       "    }\n",
       "</style>\n",
       "<table border=\"1\" class=\"dataframe\">\n",
       "  <thead>\n",
       "    <tr style=\"text-align: right;\">\n",
       "      <th></th>\n",
       "      <th>Area</th>\n",
       "      <th>Perimeter</th>\n",
       "      <th>Major_Axis_Length</th>\n",
       "      <th>Minor_Axis_Length</th>\n",
       "      <th>Eccentricity</th>\n",
       "      <th>Convex_Area</th>\n",
       "      <th>Extent</th>\n",
       "    </tr>\n",
       "  </thead>\n",
       "  <tbody>\n",
       "    <tr>\n",
       "      <th>0</th>\n",
       "      <td>1.479635</td>\n",
       "      <td>2.004091</td>\n",
       "      <td>2.348238</td>\n",
       "      <td>-0.212915</td>\n",
       "      <td>2.018073</td>\n",
       "      <td>1.499463</td>\n",
       "      <td>-1.152770</td>\n",
       "    </tr>\n",
       "    <tr>\n",
       "      <th>1</th>\n",
       "      <td>1.147720</td>\n",
       "      <td>1.125705</td>\n",
       "      <td>0.988261</td>\n",
       "      <td>0.945444</td>\n",
       "      <td>0.409964</td>\n",
       "      <td>1.192761</td>\n",
       "      <td>-0.602000</td>\n",
       "    </tr>\n",
       "    <tr>\n",
       "      <th>2</th>\n",
       "      <td>1.135020</td>\n",
       "      <td>1.317041</td>\n",
       "      <td>1.451718</td>\n",
       "      <td>0.253854</td>\n",
       "      <td>1.212797</td>\n",
       "      <td>1.126356</td>\n",
       "      <td>0.405558</td>\n",
       "    </tr>\n",
       "    <tr>\n",
       "      <th>3</th>\n",
       "      <td>0.293398</td>\n",
       "      <td>0.115285</td>\n",
       "      <td>0.261405</td>\n",
       "      <td>0.198025</td>\n",
       "      <td>0.239720</td>\n",
       "      <td>0.233826</td>\n",
       "      <td>-0.275315</td>\n",
       "    </tr>\n",
       "    <tr>\n",
       "      <th>4</th>\n",
       "      <td>1.166191</td>\n",
       "      <td>1.486858</td>\n",
       "      <td>1.316269</td>\n",
       "      <td>0.523351</td>\n",
       "      <td>0.952096</td>\n",
       "      <td>1.299685</td>\n",
       "      <td>-0.205986</td>\n",
       "    </tr>\n",
       "    <tr>\n",
       "      <th>...</th>\n",
       "      <td>...</td>\n",
       "      <td>...</td>\n",
       "      <td>...</td>\n",
       "      <td>...</td>\n",
       "      <td>...</td>\n",
       "      <td>...</td>\n",
       "      <td>...</td>\n",
       "    </tr>\n",
       "    <tr>\n",
       "      <th>3805</th>\n",
       "      <td>-0.708122</td>\n",
       "      <td>-1.078211</td>\n",
       "      <td>-1.048185</td>\n",
       "      <td>-0.097238</td>\n",
       "      <td>-1.085140</td>\n",
       "      <td>-0.745367</td>\n",
       "      <td>0.246999</td>\n",
       "    </tr>\n",
       "    <tr>\n",
       "      <th>3806</th>\n",
       "      <td>-0.601909</td>\n",
       "      <td>-0.922805</td>\n",
       "      <td>-1.207050</td>\n",
       "      <td>0.549550</td>\n",
       "      <td>-1.970473</td>\n",
       "      <td>-0.590047</td>\n",
       "      <td>0.418760</td>\n",
       "    </tr>\n",
       "    <tr>\n",
       "      <th>3807</th>\n",
       "      <td>-0.133186</td>\n",
       "      <td>-0.329808</td>\n",
       "      <td>-0.298206</td>\n",
       "      <td>0.085208</td>\n",
       "      <td>-0.275063</td>\n",
       "      <td>-0.173045</td>\n",
       "      <td>-0.455671</td>\n",
       "    </tr>\n",
       "    <tr>\n",
       "      <th>3808</th>\n",
       "      <td>-1.608046</td>\n",
       "      <td>-1.740092</td>\n",
       "      <td>-1.580764</td>\n",
       "      <td>-1.414228</td>\n",
       "      <td>-0.598743</td>\n",
       "      <td>-1.606945</td>\n",
       "      <td>-0.037163</td>\n",
       "    </tr>\n",
       "    <tr>\n",
       "      <th>3809</th>\n",
       "      <td>-0.712163</td>\n",
       "      <td>-1.391383</td>\n",
       "      <td>-1.587338</td>\n",
       "      <td>0.794867</td>\n",
       "      <td>-2.938774</td>\n",
       "      <td>-0.766189</td>\n",
       "      <td>1.825707</td>\n",
       "    </tr>\n",
       "  </tbody>\n",
       "</table>\n",
       "<p>3810 rows × 7 columns</p>\n",
       "</div>"
      ],
      "text/plain": [
       "          Area  Perimeter  Major_Axis_Length  Minor_Axis_Length  Eccentricity  \\\n",
       "0     1.479635   2.004091           2.348238          -0.212915      2.018073   \n",
       "1     1.147720   1.125705           0.988261           0.945444      0.409964   \n",
       "2     1.135020   1.317041           1.451718           0.253854      1.212797   \n",
       "3     0.293398   0.115285           0.261405           0.198025      0.239720   \n",
       "4     1.166191   1.486858           1.316269           0.523351      0.952096   \n",
       "...        ...        ...                ...                ...           ...   \n",
       "3805 -0.708122  -1.078211          -1.048185          -0.097238     -1.085140   \n",
       "3806 -0.601909  -0.922805          -1.207050           0.549550     -1.970473   \n",
       "3807 -0.133186  -0.329808          -0.298206           0.085208     -0.275063   \n",
       "3808 -1.608046  -1.740092          -1.580764          -1.414228     -0.598743   \n",
       "3809 -0.712163  -1.391383          -1.587338           0.794867     -2.938774   \n",
       "\n",
       "      Convex_Area    Extent  \n",
       "0        1.499463 -1.152770  \n",
       "1        1.192761 -0.602000  \n",
       "2        1.126356  0.405558  \n",
       "3        0.233826 -0.275315  \n",
       "4        1.299685 -0.205986  \n",
       "...           ...       ...  \n",
       "3805    -0.745367  0.246999  \n",
       "3806    -0.590047  0.418760  \n",
       "3807    -0.173045 -0.455671  \n",
       "3808    -1.606945 -0.037163  \n",
       "3809    -0.766189  1.825707  \n",
       "\n",
       "[3810 rows x 7 columns]"
      ]
     },
     "execution_count": 9,
     "metadata": {},
     "output_type": "execute_result"
    }
   ],
   "source": [
    "df_scaled = pd.DataFrame({'Area':[],'Perimeter':[],\n",
    "     'Major_Axis_Length':[],'Minor_Axis_Length':[]\n",
    "     ,'Eccentricity':[],'Convex_Area':[],'Extent':[]})\n",
    "\n",
    "for i in [\n",
    "  'Area','Perimeter','Major_Axis_Length','Minor_Axis_Length','Eccentricity','Convex_Area','Extent']:\n",
    "    array = []\n",
    "    mean = df[i].mean()\n",
    "    std = df[i].std()\n",
    "    for j in df[i]:\n",
    "        array.append((j-mean)/std)\n",
    "    df_scaled[i] = array\n",
    "df_scaled"
   ]
  },
  {
   "cell_type": "code",
   "execution_count": 10,
   "id": "16c434e1",
   "metadata": {},
   "outputs": [
    {
     "name": "stdout",
     "output_type": "stream",
     "text": [
      "mean:\n",
      "Area                 0.0\n",
      "Perimeter            0.0\n",
      "Major_Axis_Length    0.0\n",
      "Minor_Axis_Length   -0.0\n",
      "Eccentricity        -0.0\n",
      "Convex_Area         -0.0\n",
      "Extent              -0.0\n",
      "dtype: float64\n",
      "\n",
      "standard deviation:\n",
      "Area                 1.0\n",
      "Perimeter            1.0\n",
      "Major_Axis_Length    1.0\n",
      "Minor_Axis_Length    1.0\n",
      "Eccentricity         1.0\n",
      "Convex_Area          1.0\n",
      "Extent               1.0\n",
      "dtype: float64\n"
     ]
    }
   ],
   "source": [
    "print('mean:')\n",
    "print(df_scaled.mean().round(2),end ='\\n\\n')\n",
    "print('standard deviation:')\n",
    "print(df_scaled.std())"
   ]
  },
  {
   "cell_type": "markdown",
   "id": "d7e20270",
   "metadata": {},
   "source": [
    "## بخش چهارم"
   ]
  },
  {
   "cell_type": "code",
   "execution_count": 11,
   "id": "3bb00e0d",
   "metadata": {},
   "outputs": [],
   "source": [
    "import numpy as np"
   ]
  },
  {
   "cell_type": "code",
   "execution_count": 12,
   "id": "daf6355d",
   "metadata": {},
   "outputs": [
    {
     "data": {
      "text/plain": [
       "array([[ 1.47963532,  2.00409182,  2.34823961, -0.21291436,  2.01807242,\n",
       "         1.49946262, -1.15276349]])"
      ]
     },
     "execution_count": 12,
     "metadata": {},
     "output_type": "execute_result"
    }
   ],
   "source": [
    "d = {'Area':[15231],'Perimeter':[525.579],\n",
    "     'Major_Axis_Length':[229.7499],'Minor_Axis_Length':[85.09379]\n",
    "     ,'Eccentricity':[0.928882],'Convex_Area':[15617],'Extent':[0.572896]}\n",
    "\n",
    "test_data = pd.DataFrame(d) \n",
    "test_data_scaled = pd.DataFrame({'Area':[],'Perimeter':[],\n",
    "     'Major_Axis_Length':[],'Minor_Axis_Length':[]\n",
    "     ,'Eccentricity':[],'Convex_Area':[],'Extent':[]})\n",
    "for i in [\n",
    "  'Area','Perimeter','Major_Axis_Length','Minor_Axis_Length','Eccentricity','Convex_Area','Extent']:\n",
    "    mean = df[i].mean()\n",
    "    std = df[i].std()\n",
    "    test_data_scaled[i] = (d[i]-mean)/std\n",
    "arr_test_data = test_data_scaled.to_numpy()\n",
    "arr_test_data"
   ]
  },
  {
   "cell_type": "markdown",
   "id": "b339b18f",
   "metadata": {},
   "source": [
    "## بخش پنجم"
   ]
  },
  {
   "cell_type": "code",
   "execution_count": 13,
   "id": "a3b4e7b9",
   "metadata": {},
   "outputs": [
    {
     "data": {
      "text/plain": [
       "array([[ 1.47963532,  2.00409125,  2.34823834, ...,  2.01807257,\n",
       "         1.49946262, -1.15276961],\n",
       "       [ 1.14771964,  1.12570533,  0.98826071, ...,  0.40996432,\n",
       "         1.19276111, -0.60199975],\n",
       "       [ 1.13502026,  1.31704138,  1.45171791, ...,  1.21279729,\n",
       "         1.12635602,  0.40555776],\n",
       "       ...,\n",
       "       [-0.13318625, -0.32980758, -0.29820597, ..., -0.27506304,\n",
       "        -0.17304541, -0.45567127],\n",
       "       [-1.60804635, -1.74009162, -1.58076367, ..., -0.59874276,\n",
       "        -1.60694529, -0.03716269],\n",
       "       [-0.71216264, -1.39138341, -1.58733812, ..., -2.93877438,\n",
       "        -0.76618924,  1.82570729]])"
      ]
     },
     "execution_count": 13,
     "metadata": {},
     "output_type": "execute_result"
    }
   ],
   "source": [
    "np_df_scaled = df_scaled.to_numpy()\n",
    "np_df_scaled"
   ]
  },
  {
   "cell_type": "code",
   "execution_count": 14,
   "id": "037b9230",
   "metadata": {},
   "outputs": [
    {
     "name": "stdout",
     "output_type": "stream",
     "text": [
      "<class 'numpy.ndarray'>\n",
      "[3.33377917 3.21085255 3.21082975 ... 4.65467247 7.9493738  5.85977186]\n"
     ]
    }
   ],
   "source": [
    "dist = np.zeros(shape=(len(np_df_scaled)))\n",
    "print(type(dist))\n",
    "for i in range (len(np_df_scaled)):\n",
    "    dist[i] = np.sqrt(np.sum([(a-b)*(a-b) for a, b in zip(arr_test_data , np_df_scaled[i])]))\n",
    "print(dist)"
   ]
  },
  {
   "cell_type": "code",
   "execution_count": 15,
   "id": "2653ec72",
   "metadata": {},
   "outputs": [
    {
     "data": {
      "text/html": [
       "<div>\n",
       "<style scoped>\n",
       "    .dataframe tbody tr th:only-of-type {\n",
       "        vertical-align: middle;\n",
       "    }\n",
       "\n",
       "    .dataframe tbody tr th {\n",
       "        vertical-align: top;\n",
       "    }\n",
       "\n",
       "    .dataframe thead th {\n",
       "        text-align: right;\n",
       "    }\n",
       "</style>\n",
       "<table border=\"1\" class=\"dataframe\">\n",
       "  <thead>\n",
       "    <tr style=\"text-align: right;\">\n",
       "      <th></th>\n",
       "      <th>Area</th>\n",
       "      <th>Perimeter</th>\n",
       "      <th>Major_Axis_Length</th>\n",
       "      <th>Minor_Axis_Length</th>\n",
       "      <th>Eccentricity</th>\n",
       "      <th>Convex_Area</th>\n",
       "      <th>Extent</th>\n",
       "      <th>euclidean_meter</th>\n",
       "    </tr>\n",
       "  </thead>\n",
       "  <tbody>\n",
       "    <tr>\n",
       "      <th>0</th>\n",
       "      <td>1.479635</td>\n",
       "      <td>2.004091</td>\n",
       "      <td>2.348238</td>\n",
       "      <td>-0.212915</td>\n",
       "      <td>2.018073</td>\n",
       "      <td>1.499463</td>\n",
       "      <td>-1.152770</td>\n",
       "      <td>3.333779</td>\n",
       "    </tr>\n",
       "    <tr>\n",
       "      <th>1</th>\n",
       "      <td>1.147720</td>\n",
       "      <td>1.125705</td>\n",
       "      <td>0.988261</td>\n",
       "      <td>0.945444</td>\n",
       "      <td>0.409964</td>\n",
       "      <td>1.192761</td>\n",
       "      <td>-0.602000</td>\n",
       "      <td>3.210853</td>\n",
       "    </tr>\n",
       "    <tr>\n",
       "      <th>2</th>\n",
       "      <td>1.135020</td>\n",
       "      <td>1.317041</td>\n",
       "      <td>1.451718</td>\n",
       "      <td>0.253854</td>\n",
       "      <td>1.212797</td>\n",
       "      <td>1.126356</td>\n",
       "      <td>0.405558</td>\n",
       "      <td>3.210830</td>\n",
       "    </tr>\n",
       "    <tr>\n",
       "      <th>3</th>\n",
       "      <td>0.293398</td>\n",
       "      <td>0.115285</td>\n",
       "      <td>0.261405</td>\n",
       "      <td>0.198025</td>\n",
       "      <td>0.239720</td>\n",
       "      <td>0.233826</td>\n",
       "      <td>-0.275315</td>\n",
       "      <td>3.915717</td>\n",
       "    </tr>\n",
       "    <tr>\n",
       "      <th>4</th>\n",
       "      <td>1.166191</td>\n",
       "      <td>1.486858</td>\n",
       "      <td>1.316269</td>\n",
       "      <td>0.523351</td>\n",
       "      <td>0.952096</td>\n",
       "      <td>1.299685</td>\n",
       "      <td>-0.205986</td>\n",
       "      <td>3.211513</td>\n",
       "    </tr>\n",
       "    <tr>\n",
       "      <th>...</th>\n",
       "      <td>...</td>\n",
       "      <td>...</td>\n",
       "      <td>...</td>\n",
       "      <td>...</td>\n",
       "      <td>...</td>\n",
       "      <td>...</td>\n",
       "      <td>...</td>\n",
       "      <td>...</td>\n",
       "    </tr>\n",
       "    <tr>\n",
       "      <th>3805</th>\n",
       "      <td>-0.708122</td>\n",
       "      <td>-1.078211</td>\n",
       "      <td>-1.048185</td>\n",
       "      <td>-0.097238</td>\n",
       "      <td>-1.085140</td>\n",
       "      <td>-0.745367</td>\n",
       "      <td>0.246999</td>\n",
       "      <td>5.850832</td>\n",
       "    </tr>\n",
       "    <tr>\n",
       "      <th>3806</th>\n",
       "      <td>-0.601909</td>\n",
       "      <td>-0.922805</td>\n",
       "      <td>-1.207050</td>\n",
       "      <td>0.549550</td>\n",
       "      <td>-1.970473</td>\n",
       "      <td>-0.590047</td>\n",
       "      <td>0.418760</td>\n",
       "      <td>5.618030</td>\n",
       "    </tr>\n",
       "    <tr>\n",
       "      <th>3807</th>\n",
       "      <td>-0.133186</td>\n",
       "      <td>-0.329808</td>\n",
       "      <td>-0.298206</td>\n",
       "      <td>0.085208</td>\n",
       "      <td>-0.275063</td>\n",
       "      <td>-0.173045</td>\n",
       "      <td>-0.455671</td>\n",
       "      <td>4.654672</td>\n",
       "    </tr>\n",
       "    <tr>\n",
       "      <th>3808</th>\n",
       "      <td>-1.608046</td>\n",
       "      <td>-1.740092</td>\n",
       "      <td>-1.580764</td>\n",
       "      <td>-1.414228</td>\n",
       "      <td>-0.598743</td>\n",
       "      <td>-1.606945</td>\n",
       "      <td>-0.037163</td>\n",
       "      <td>7.949374</td>\n",
       "    </tr>\n",
       "    <tr>\n",
       "      <th>3809</th>\n",
       "      <td>-0.712163</td>\n",
       "      <td>-1.391383</td>\n",
       "      <td>-1.587338</td>\n",
       "      <td>0.794867</td>\n",
       "      <td>-2.938774</td>\n",
       "      <td>-0.766189</td>\n",
       "      <td>1.825707</td>\n",
       "      <td>5.859772</td>\n",
       "    </tr>\n",
       "  </tbody>\n",
       "</table>\n",
       "<p>3810 rows × 8 columns</p>\n",
       "</div>"
      ],
      "text/plain": [
       "          Area  Perimeter  Major_Axis_Length  Minor_Axis_Length  Eccentricity  \\\n",
       "0     1.479635   2.004091           2.348238          -0.212915      2.018073   \n",
       "1     1.147720   1.125705           0.988261           0.945444      0.409964   \n",
       "2     1.135020   1.317041           1.451718           0.253854      1.212797   \n",
       "3     0.293398   0.115285           0.261405           0.198025      0.239720   \n",
       "4     1.166191   1.486858           1.316269           0.523351      0.952096   \n",
       "...        ...        ...                ...                ...           ...   \n",
       "3805 -0.708122  -1.078211          -1.048185          -0.097238     -1.085140   \n",
       "3806 -0.601909  -0.922805          -1.207050           0.549550     -1.970473   \n",
       "3807 -0.133186  -0.329808          -0.298206           0.085208     -0.275063   \n",
       "3808 -1.608046  -1.740092          -1.580764          -1.414228     -0.598743   \n",
       "3809 -0.712163  -1.391383          -1.587338           0.794867     -2.938774   \n",
       "\n",
       "      Convex_Area    Extent  euclidean_meter  \n",
       "0        1.499463 -1.152770         3.333779  \n",
       "1        1.192761 -0.602000         3.210853  \n",
       "2        1.126356  0.405558         3.210830  \n",
       "3        0.233826 -0.275315         3.915717  \n",
       "4        1.299685 -0.205986         3.211513  \n",
       "...           ...       ...              ...  \n",
       "3805    -0.745367  0.246999         5.850832  \n",
       "3806    -0.590047  0.418760         5.618030  \n",
       "3807    -0.173045 -0.455671         4.654672  \n",
       "3808    -1.606945 -0.037163         7.949374  \n",
       "3809    -0.766189  1.825707         5.859772  \n",
       "\n",
       "[3810 rows x 8 columns]"
      ]
     },
     "execution_count": 15,
     "metadata": {},
     "output_type": "execute_result"
    }
   ],
   "source": [
    "df_scaled['euclidean_meter'] = dist\n",
    "df_scaled"
   ]
  },
  {
   "cell_type": "code",
   "execution_count": 16,
   "id": "cf09547d",
   "metadata": {},
   "outputs": [
    {
     "data": {
      "text/html": [
       "<div>\n",
       "<style scoped>\n",
       "    .dataframe tbody tr th:only-of-type {\n",
       "        vertical-align: middle;\n",
       "    }\n",
       "\n",
       "    .dataframe tbody tr th {\n",
       "        vertical-align: top;\n",
       "    }\n",
       "\n",
       "    .dataframe thead th {\n",
       "        text-align: right;\n",
       "    }\n",
       "</style>\n",
       "<table border=\"1\" class=\"dataframe\">\n",
       "  <thead>\n",
       "    <tr style=\"text-align: right;\">\n",
       "      <th></th>\n",
       "      <th>Area</th>\n",
       "      <th>Perimeter</th>\n",
       "      <th>Major_Axis_Length</th>\n",
       "      <th>Minor_Axis_Length</th>\n",
       "      <th>Eccentricity</th>\n",
       "      <th>Convex_Area</th>\n",
       "      <th>Extent</th>\n",
       "      <th>euclidean_meter</th>\n",
       "      <th>Calss</th>\n",
       "    </tr>\n",
       "  </thead>\n",
       "  <tbody>\n",
       "    <tr>\n",
       "      <th>0</th>\n",
       "      <td>1.479635</td>\n",
       "      <td>2.004091</td>\n",
       "      <td>2.348238</td>\n",
       "      <td>-0.212915</td>\n",
       "      <td>2.018073</td>\n",
       "      <td>1.499463</td>\n",
       "      <td>-1.152770</td>\n",
       "      <td>3.333779</td>\n",
       "      <td>Cammeo</td>\n",
       "    </tr>\n",
       "    <tr>\n",
       "      <th>1</th>\n",
       "      <td>1.147720</td>\n",
       "      <td>1.125705</td>\n",
       "      <td>0.988261</td>\n",
       "      <td>0.945444</td>\n",
       "      <td>0.409964</td>\n",
       "      <td>1.192761</td>\n",
       "      <td>-0.602000</td>\n",
       "      <td>3.210853</td>\n",
       "      <td>Cammeo</td>\n",
       "    </tr>\n",
       "    <tr>\n",
       "      <th>2</th>\n",
       "      <td>1.135020</td>\n",
       "      <td>1.317041</td>\n",
       "      <td>1.451718</td>\n",
       "      <td>0.253854</td>\n",
       "      <td>1.212797</td>\n",
       "      <td>1.126356</td>\n",
       "      <td>0.405558</td>\n",
       "      <td>3.210830</td>\n",
       "      <td>Cammeo</td>\n",
       "    </tr>\n",
       "    <tr>\n",
       "      <th>3</th>\n",
       "      <td>0.293398</td>\n",
       "      <td>0.115285</td>\n",
       "      <td>0.261405</td>\n",
       "      <td>0.198025</td>\n",
       "      <td>0.239720</td>\n",
       "      <td>0.233826</td>\n",
       "      <td>-0.275315</td>\n",
       "      <td>3.915717</td>\n",
       "      <td>Cammeo</td>\n",
       "    </tr>\n",
       "    <tr>\n",
       "      <th>4</th>\n",
       "      <td>1.166191</td>\n",
       "      <td>1.486858</td>\n",
       "      <td>1.316269</td>\n",
       "      <td>0.523351</td>\n",
       "      <td>0.952096</td>\n",
       "      <td>1.299685</td>\n",
       "      <td>-0.205986</td>\n",
       "      <td>3.211513</td>\n",
       "      <td>Cammeo</td>\n",
       "    </tr>\n",
       "  </tbody>\n",
       "</table>\n",
       "</div>"
      ],
      "text/plain": [
       "       Area  Perimeter  Major_Axis_Length  Minor_Axis_Length  Eccentricity  \\\n",
       "0  1.479635   2.004091           2.348238          -0.212915      2.018073   \n",
       "1  1.147720   1.125705           0.988261           0.945444      0.409964   \n",
       "2  1.135020   1.317041           1.451718           0.253854      1.212797   \n",
       "3  0.293398   0.115285           0.261405           0.198025      0.239720   \n",
       "4  1.166191   1.486858           1.316269           0.523351      0.952096   \n",
       "\n",
       "   Convex_Area    Extent  euclidean_meter   Calss  \n",
       "0     1.499463 -1.152770         3.333779  Cammeo  \n",
       "1     1.192761 -0.602000         3.210853  Cammeo  \n",
       "2     1.126356  0.405558         3.210830  Cammeo  \n",
       "3     0.233826 -0.275315         3.915717  Cammeo  \n",
       "4     1.299685 -0.205986         3.211513  Cammeo  "
      ]
     },
     "execution_count": 16,
     "metadata": {},
     "output_type": "execute_result"
    }
   ],
   "source": [
    "df_scaled['Calss'] = rice_df['Class']\n",
    "df_scaled.head()"
   ]
  },
  {
   "cell_type": "code",
   "execution_count": 17,
   "id": "9d887fb5",
   "metadata": {
    "scrolled": true
   },
   "outputs": [
    {
     "data": {
      "text/html": [
       "<div>\n",
       "<style scoped>\n",
       "    .dataframe tbody tr th:only-of-type {\n",
       "        vertical-align: middle;\n",
       "    }\n",
       "\n",
       "    .dataframe tbody tr th {\n",
       "        vertical-align: top;\n",
       "    }\n",
       "\n",
       "    .dataframe thead th {\n",
       "        text-align: right;\n",
       "    }\n",
       "</style>\n",
       "<table border=\"1\" class=\"dataframe\">\n",
       "  <thead>\n",
       "    <tr style=\"text-align: right;\">\n",
       "      <th></th>\n",
       "      <th>Area</th>\n",
       "      <th>Perimeter</th>\n",
       "      <th>Major_Axis_Length</th>\n",
       "      <th>Minor_Axis_Length</th>\n",
       "      <th>Eccentricity</th>\n",
       "      <th>Convex_Area</th>\n",
       "      <th>Extent</th>\n",
       "      <th>euclidean_meter</th>\n",
       "      <th>Calss</th>\n",
       "    </tr>\n",
       "  </thead>\n",
       "  <tbody>\n",
       "    <tr>\n",
       "      <th>810</th>\n",
       "      <td>1.141370</td>\n",
       "      <td>0.867313</td>\n",
       "      <td>0.709369</td>\n",
       "      <td>1.268216</td>\n",
       "      <td>-0.080435</td>\n",
       "      <td>1.089777</td>\n",
       "      <td>-0.201025</td>\n",
       "      <td>3.210797</td>\n",
       "      <td>Cammeo</td>\n",
       "    </tr>\n",
       "    <tr>\n",
       "      <th>469</th>\n",
       "      <td>1.141947</td>\n",
       "      <td>1.607233</td>\n",
       "      <td>1.817121</td>\n",
       "      <td>-0.119034</td>\n",
       "      <td>1.663373</td>\n",
       "      <td>1.151680</td>\n",
       "      <td>-0.327065</td>\n",
       "      <td>3.210799</td>\n",
       "      <td>Cammeo</td>\n",
       "    </tr>\n",
       "    <tr>\n",
       "      <th>114</th>\n",
       "      <td>1.139061</td>\n",
       "      <td>1.426039</td>\n",
       "      <td>1.307115</td>\n",
       "      <td>0.649180</td>\n",
       "      <td>0.868385</td>\n",
       "      <td>1.171376</td>\n",
       "      <td>-0.419169</td>\n",
       "      <td>3.210799</td>\n",
       "      <td>Cammeo</td>\n",
       "    </tr>\n",
       "    <tr>\n",
       "      <th>1425</th>\n",
       "      <td>1.138484</td>\n",
       "      <td>1.322716</td>\n",
       "      <td>1.233066</td>\n",
       "      <td>0.701241</td>\n",
       "      <td>0.776764</td>\n",
       "      <td>1.219211</td>\n",
       "      <td>-0.976137</td>\n",
       "      <td>3.210801</td>\n",
       "      <td>Cammeo</td>\n",
       "    </tr>\n",
       "    <tr>\n",
       "      <th>239</th>\n",
       "      <td>1.145411</td>\n",
       "      <td>0.879505</td>\n",
       "      <td>0.732284</td>\n",
       "      <td>1.245217</td>\n",
       "      <td>-0.040717</td>\n",
       "      <td>1.086400</td>\n",
       "      <td>-0.890533</td>\n",
       "      <td>3.210822</td>\n",
       "      <td>Cammeo</td>\n",
       "    </tr>\n",
       "    <tr>\n",
       "      <th>951</th>\n",
       "      <td>1.145411</td>\n",
       "      <td>1.266868</td>\n",
       "      <td>1.359857</td>\n",
       "      <td>0.425422</td>\n",
       "      <td>1.044282</td>\n",
       "      <td>1.174190</td>\n",
       "      <td>1.372245</td>\n",
       "      <td>3.210822</td>\n",
       "      <td>Cammeo</td>\n",
       "    </tr>\n",
       "    <tr>\n",
       "      <th>2</th>\n",
       "      <td>1.135020</td>\n",
       "      <td>1.317041</td>\n",
       "      <td>1.451718</td>\n",
       "      <td>0.253854</td>\n",
       "      <td>1.212797</td>\n",
       "      <td>1.126356</td>\n",
       "      <td>0.405558</td>\n",
       "      <td>3.210830</td>\n",
       "      <td>Cammeo</td>\n",
       "    </tr>\n",
       "    <tr>\n",
       "      <th>758</th>\n",
       "      <td>1.135020</td>\n",
       "      <td>1.089635</td>\n",
       "      <td>1.109536</td>\n",
       "      <td>0.709566</td>\n",
       "      <td>0.669165</td>\n",
       "      <td>1.094842</td>\n",
       "      <td>0.625546</td>\n",
       "      <td>3.210830</td>\n",
       "      <td>Cammeo</td>\n",
       "    </tr>\n",
       "    <tr>\n",
       "      <th>709</th>\n",
       "      <td>1.146565</td>\n",
       "      <td>1.232231</td>\n",
       "      <td>1.483097</td>\n",
       "      <td>0.186183</td>\n",
       "      <td>1.274109</td>\n",
       "      <td>1.099907</td>\n",
       "      <td>1.836093</td>\n",
       "      <td>3.210836</td>\n",
       "      <td>Cammeo</td>\n",
       "    </tr>\n",
       "    <tr>\n",
       "      <th>618</th>\n",
       "      <td>1.134443</td>\n",
       "      <td>1.147701</td>\n",
       "      <td>1.146466</td>\n",
       "      <td>0.688008</td>\n",
       "      <td>0.713776</td>\n",
       "      <td>1.139862</td>\n",
       "      <td>-0.237305</td>\n",
       "      <td>3.210837</td>\n",
       "      <td>Cammeo</td>\n",
       "    </tr>\n",
       "    <tr>\n",
       "      <th>126</th>\n",
       "      <td>1.147142</td>\n",
       "      <td>1.052778</td>\n",
       "      <td>0.651664</td>\n",
       "      <td>1.477659</td>\n",
       "      <td>-0.293310</td>\n",
       "      <td>1.254101</td>\n",
       "      <td>-0.790066</td>\n",
       "      <td>3.210844</td>\n",
       "      <td>Cammeo</td>\n",
       "    </tr>\n",
       "    <tr>\n",
       "      <th>1</th>\n",
       "      <td>1.147720</td>\n",
       "      <td>1.125705</td>\n",
       "      <td>0.988261</td>\n",
       "      <td>0.945444</td>\n",
       "      <td>0.409964</td>\n",
       "      <td>1.192761</td>\n",
       "      <td>-0.602000</td>\n",
       "      <td>3.210853</td>\n",
       "      <td>Cammeo</td>\n",
       "    </tr>\n",
       "    <tr>\n",
       "      <th>1596</th>\n",
       "      <td>1.148874</td>\n",
       "      <td>0.897259</td>\n",
       "      <td>0.751364</td>\n",
       "      <td>1.203183</td>\n",
       "      <td>0.008357</td>\n",
       "      <td>1.091465</td>\n",
       "      <td>-0.176554</td>\n",
       "      <td>3.210872</td>\n",
       "      <td>Cammeo</td>\n",
       "    </tr>\n",
       "    <tr>\n",
       "      <th>2431</th>\n",
       "      <td>1.148874</td>\n",
       "      <td>0.642688</td>\n",
       "      <td>0.045299</td>\n",
       "      <td>2.388214</td>\n",
       "      <td>-1.792709</td>\n",
       "      <td>1.179255</td>\n",
       "      <td>-0.160934</td>\n",
       "      <td>3.210872</td>\n",
       "      <td>Osmancik</td>\n",
       "    </tr>\n",
       "    <tr>\n",
       "      <th>584</th>\n",
       "      <td>1.130980</td>\n",
       "      <td>1.231388</td>\n",
       "      <td>0.974934</td>\n",
       "      <td>1.067148</td>\n",
       "      <td>0.316496</td>\n",
       "      <td>1.203453</td>\n",
       "      <td>-0.730353</td>\n",
       "      <td>3.210896</td>\n",
       "      <td>Cammeo</td>\n",
       "    </tr>\n",
       "    <tr>\n",
       "      <th>561</th>\n",
       "      <td>1.130402</td>\n",
       "      <td>1.351735</td>\n",
       "      <td>1.373082</td>\n",
       "      <td>0.396110</td>\n",
       "      <td>1.071668</td>\n",
       "      <td>1.150554</td>\n",
       "      <td>-1.041311</td>\n",
       "      <td>3.210909</td>\n",
       "      <td>Cammeo</td>\n",
       "    </tr>\n",
       "    <tr>\n",
       "      <th>11</th>\n",
       "      <td>1.130402</td>\n",
       "      <td>1.189615</td>\n",
       "      <td>0.903101</td>\n",
       "      <td>1.162536</td>\n",
       "      <td>0.184509</td>\n",
       "      <td>1.191636</td>\n",
       "      <td>-1.187481</td>\n",
       "      <td>3.210909</td>\n",
       "      <td>Cammeo</td>\n",
       "    </tr>\n",
       "  </tbody>\n",
       "</table>\n",
       "</div>"
      ],
      "text/plain": [
       "          Area  Perimeter  Major_Axis_Length  Minor_Axis_Length  Eccentricity  \\\n",
       "810   1.141370   0.867313           0.709369           1.268216     -0.080435   \n",
       "469   1.141947   1.607233           1.817121          -0.119034      1.663373   \n",
       "114   1.139061   1.426039           1.307115           0.649180      0.868385   \n",
       "1425  1.138484   1.322716           1.233066           0.701241      0.776764   \n",
       "239   1.145411   0.879505           0.732284           1.245217     -0.040717   \n",
       "951   1.145411   1.266868           1.359857           0.425422      1.044282   \n",
       "2     1.135020   1.317041           1.451718           0.253854      1.212797   \n",
       "758   1.135020   1.089635           1.109536           0.709566      0.669165   \n",
       "709   1.146565   1.232231           1.483097           0.186183      1.274109   \n",
       "618   1.134443   1.147701           1.146466           0.688008      0.713776   \n",
       "126   1.147142   1.052778           0.651664           1.477659     -0.293310   \n",
       "1     1.147720   1.125705           0.988261           0.945444      0.409964   \n",
       "1596  1.148874   0.897259           0.751364           1.203183      0.008357   \n",
       "2431  1.148874   0.642688           0.045299           2.388214     -1.792709   \n",
       "584   1.130980   1.231388           0.974934           1.067148      0.316496   \n",
       "561   1.130402   1.351735           1.373082           0.396110      1.071668   \n",
       "11    1.130402   1.189615           0.903101           1.162536      0.184509   \n",
       "\n",
       "      Convex_Area    Extent  euclidean_meter     Calss  \n",
       "810      1.089777 -0.201025         3.210797    Cammeo  \n",
       "469      1.151680 -0.327065         3.210799    Cammeo  \n",
       "114      1.171376 -0.419169         3.210799    Cammeo  \n",
       "1425     1.219211 -0.976137         3.210801    Cammeo  \n",
       "239      1.086400 -0.890533         3.210822    Cammeo  \n",
       "951      1.174190  1.372245         3.210822    Cammeo  \n",
       "2        1.126356  0.405558         3.210830    Cammeo  \n",
       "758      1.094842  0.625546         3.210830    Cammeo  \n",
       "709      1.099907  1.836093         3.210836    Cammeo  \n",
       "618      1.139862 -0.237305         3.210837    Cammeo  \n",
       "126      1.254101 -0.790066         3.210844    Cammeo  \n",
       "1        1.192761 -0.602000         3.210853    Cammeo  \n",
       "1596     1.091465 -0.176554         3.210872    Cammeo  \n",
       "2431     1.179255 -0.160934         3.210872  Osmancik  \n",
       "584      1.203453 -0.730353         3.210896    Cammeo  \n",
       "561      1.150554 -1.041311         3.210909    Cammeo  \n",
       "11       1.191636 -1.187481         3.210909    Cammeo  "
      ]
     },
     "execution_count": 17,
     "metadata": {},
     "output_type": "execute_result"
    }
   ],
   "source": [
    "sorted_df = df_scaled.sort_values(by=['euclidean_meter'])\n",
    "sorted_df[0:17]"
   ]
  },
  {
   "cell_type": "markdown",
   "id": "f661d21e",
   "metadata": {},
   "source": [
    "We can understand that the type of rice is Cammeo"
   ]
  },
  {
   "cell_type": "markdown",
   "id": "42afc7f4",
   "metadata": {},
   "source": [
    "## بخش ششم"
   ]
  },
  {
   "cell_type": "code",
   "execution_count": 18,
   "id": "42d9d72f",
   "metadata": {},
   "outputs": [],
   "source": [
    "from matplotlib.ticker import FuncFormatter\n",
    "import matplotlib.pyplot as plt"
   ]
  },
  {
   "cell_type": "markdown",
   "id": "61a804de",
   "metadata": {},
   "source": [
    "#### Before Nomalize"
   ]
  },
  {
   "cell_type": "code",
   "execution_count": 19,
   "id": "e2f46b9a",
   "metadata": {
    "scrolled": false
   },
   "outputs": [
    {
     "data": {
      "image/png": "[encoded data removed]",
      "text/plain": [
       "<Figure size 720x360 with 1 Axes>"
      ]
     },
     "metadata": {
      "needs_background": "light"
     },
     "output_type": "display_data"
    }
   ],
   "source": [
    "area = df['Area'].head(10)\n",
    " \n",
    "# Figure Size\n",
    "fig = plt.figure(figsize =(10, 5))\n",
    " \n",
    "# Horizontal Bar Plot\n",
    "plt.bar(np.arange(10), area[0:10])\n",
    "plt.ylim(area.min() - 100, area.max() +100)\n",
    "# Show Plot\n",
    "plt.show()"
   ]
  },
  {
   "cell_type": "markdown",
   "id": "cec24df8",
   "metadata": {},
   "source": [
    "#### After Nomalize"
   ]
  },
  {
   "cell_type": "code",
   "execution_count": 20,
   "id": "0d1d7146",
   "metadata": {},
   "outputs": [
    {
     "data": {
      "image/png": "[encoded data removed]",
      "text/plain": [
       "<Figure size 720x360 with 1 Axes>"
      ]
     },
     "metadata": {
      "needs_background": "light"
     },
     "output_type": "display_data"
    }
   ],
   "source": [
    "area_scaled = df_scaled['Area'].head(10)\n",
    " \n",
    "# Figure Size\n",
    "fig = plt.figure(figsize =(10, 5))\n",
    " \n",
    "# Horizontal Bar Plot\n",
    "plt.bar(np.arange(10), area_scaled[0:10])\n",
    " \n",
    "# Show Plot\n",
    "plt.show()"
   ]
  },
  {
   "cell_type": "markdown",
   "id": "f3e8a52d",
   "metadata": {},
   "source": [
    "#### Before Nomalize"
   ]
  },
  {
   "cell_type": "code",
   "execution_count": 21,
   "id": "ce43eae5",
   "metadata": {},
   "outputs": [
    {
     "data": {
      "image/png": "[encoded data removed]",
      "text/plain": [
       "<Figure size 720x360 with 1 Axes>"
      ]
     },
     "metadata": {
      "needs_background": "light"
     },
     "output_type": "display_data"
    }
   ],
   "source": [
    "perimeter = df['Perimeter'].head(10)\n",
    " \n",
    "# Figure Size\n",
    "fig = plt.figure(figsize =(10, 5))\n",
    " \n",
    "# Horizontal Bar Plot\n",
    "plt.bar(np.arange(10), perimeter[0:10])\n",
    "plt.ylim(perimeter.min() - 0.5, perimeter.max() + 0.5)\n",
    "# Show Plot\n",
    "plt.show()"
   ]
  },
  {
   "cell_type": "markdown",
   "id": "953f19a9",
   "metadata": {},
   "source": [
    "#### After Nomalize"
   ]
  },
  {
   "cell_type": "code",
   "execution_count": 22,
   "id": "c9f08773",
   "metadata": {},
   "outputs": [
    {
     "data": {
      "image/png": "[encoded data removed]",
      "text/plain": [
       "<Figure size 720x360 with 1 Axes>"
      ]
     },
     "metadata": {
      "needs_background": "light"
     },
     "output_type": "display_data"
    }
   ],
   "source": [
    "perimeter_scaled = df_scaled['Perimeter'].head(10)\n",
    " \n",
    "# Figure Size\n",
    "fig = plt.figure(figsize =(10, 5))\n",
    " \n",
    "# Horizontal Bar Plot\n",
    "plt.bar(np.arange(10), perimeter_scaled[0:10])\n",
    " \n",
    "# Show Plot\n",
    "plt.show()"
   ]
  },
  {
   "cell_type": "markdown",
   "id": "a27278f0",
   "metadata": {},
   "source": [
    "#### Before Nomalize"
   ]
  },
  {
   "cell_type": "code",
   "execution_count": 23,
   "id": "e9f46a12",
   "metadata": {},
   "outputs": [
    {
     "data": {
      "image/png": "[encoded data removed]",
      "text/plain": [
       "<Figure size 720x360 with 1 Axes>"
      ]
     },
     "metadata": {
      "needs_background": "light"
     },
     "output_type": "display_data"
    }
   ],
   "source": [
    "Major_Axis_Length = df['Major_Axis_Length'].head(10)\n",
    " \n",
    "# Figure Size\n",
    "fig = plt.figure(figsize =(10, 5))\n",
    " \n",
    "# Horizontal Bar Plot\n",
    "plt.bar(np.arange(10), Major_Axis_Length[0:10])\n",
    "plt.ylim(Major_Axis_Length.min() - 0.5, Major_Axis_Length.max() + 0.5)\n",
    "# Show Plot\n",
    "plt.show()"
   ]
  },
  {
   "cell_type": "markdown",
   "id": "8dce58fa",
   "metadata": {},
   "source": [
    "#### After Nomalize"
   ]
  },
  {
   "cell_type": "code",
   "execution_count": 24,
   "id": "2923fc1d",
   "metadata": {},
   "outputs": [
    {
     "data": {
      "image/png": "[encoded data removed]",
      "text/plain": [
       "<Figure size 720x360 with 1 Axes>"
      ]
     },
     "metadata": {
      "needs_background": "light"
     },
     "output_type": "display_data"
    }
   ],
   "source": [
    "Major_Axis_Length_scaled = df_scaled['Major_Axis_Length'].head(10)\n",
    " \n",
    "# Figure Size\n",
    "fig = plt.figure(figsize =(10, 5))\n",
    " \n",
    "# Horizontal Bar Plot\n",
    "plt.bar(np.arange(10), Major_Axis_Length_scaled[0:10])\n",
    " \n",
    "# Show Plot\n",
    "plt.show()"
   ]
  },
  {
   "cell_type": "markdown",
   "id": "5eb3cd68",
   "metadata": {},
   "source": [
    "#### Before Nomalize"
   ]
  },
  {
   "cell_type": "code",
   "execution_count": 25,
   "id": "2c8c4954",
   "metadata": {},
   "outputs": [
    {
     "data": {
      "image/png": "[encoded data removed]",
      "text/plain": [
       "<Figure size 720x360 with 1 Axes>"
      ]
     },
     "metadata": {
      "needs_background": "light"
     },
     "output_type": "display_data"
    }
   ],
   "source": [
    "Minor_Axis_Length = df['Minor_Axis_Length'].head(10)\n",
    " \n",
    "# Figure Size\n",
    "fig = plt.figure(figsize =(10, 5))\n",
    " \n",
    "# Horizontal Bar Plot\n",
    "plt.bar(np.arange(10), Minor_Axis_Length[0:10])\n",
    "plt.ylim(Minor_Axis_Length.min() - 0.5, Minor_Axis_Length.max() + 0.5) \n",
    "# Show Plot\n",
    "plt.show()"
   ]
  },
  {
   "cell_type": "markdown",
   "id": "72aecc66",
   "metadata": {},
   "source": [
    "#### After Nomalize"
   ]
  },
  {
   "cell_type": "code",
   "execution_count": 26,
   "id": "d63143fb",
   "metadata": {},
   "outputs": [
    {
     "data": {
      "image/png": "[encoded data removed]",
      "text/plain": [
       "<Figure size 720x360 with 1 Axes>"
      ]
     },
     "metadata": {
      "needs_background": "light"
     },
     "output_type": "display_data"
    }
   ],
   "source": [
    "Minor_Axis_Length_scaled = df_scaled['Minor_Axis_Length'].head(10)\n",
    " \n",
    "# Figure Size\n",
    "fig = plt.figure(figsize =(10, 5))\n",
    " \n",
    "# Horizontal Bar Plot\n",
    "plt.bar(np.arange(10), Minor_Axis_Length_scaled[0:10])\n",
    " \n",
    "# Show Plot\n",
    "plt.show()"
   ]
  },
  {
   "cell_type": "markdown",
   "id": "c5843af6",
   "metadata": {},
   "source": [
    "#### Before Nomalize"
   ]
  },
  {
   "cell_type": "code",
   "execution_count": 27,
   "id": "7a00a785",
   "metadata": {},
   "outputs": [
    {
     "data": {
      "image/png": "[encoded data removed]",
      "text/plain": [
       "<Figure size 720x360 with 1 Axes>"
      ]
     },
     "metadata": {
      "needs_background": "light"
     },
     "output_type": "display_data"
    }
   ],
   "source": [
    "Eccentricity = df['Eccentricity'].head(10)\n",
    " \n",
    "# Figure Size\n",
    "fig = plt.figure(figsize =(10, 5))\n",
    " \n",
    "# Horizontal Bar Plot\n",
    "plt.bar(np.arange(10), Eccentricity[0:10])\n",
    "plt.ylim(Eccentricity.min() - 0.005, Eccentricity.max() + 0.005) \n",
    "# Show Plot\n",
    "plt.show()"
   ]
  },
  {
   "cell_type": "markdown",
   "id": "d8f2ef13",
   "metadata": {},
   "source": [
    "#### After Nomalize"
   ]
  },
  {
   "cell_type": "code",
   "execution_count": 28,
   "id": "341fcd18",
   "metadata": {},
   "outputs": [
    {
     "data": {
      "image/png": "[encoded data removed]",
      "text/plain": [
       "<Figure size 720x360 with 1 Axes>"
      ]
     },
     "metadata": {
      "needs_background": "light"
     },
     "output_type": "display_data"
    }
   ],
   "source": [
    "Eccentricity_scaled = df_scaled['Eccentricity'].head(10)\n",
    " \n",
    "# Figure Size\n",
    "fig = plt.figure(figsize =(10, 5))\n",
    " \n",
    "# Horizontal Bar Plot\n",
    "plt.bar(np.arange(10), Eccentricity_scaled[0:10])\n",
    " \n",
    "# Show Plot\n",
    "plt.show()"
   ]
  },
  {
   "cell_type": "markdown",
   "id": "f4ff2257",
   "metadata": {},
   "source": [
    "#### Before Nomalize"
   ]
  },
  {
   "cell_type": "code",
   "execution_count": 29,
   "id": "83ec1aa1",
   "metadata": {},
   "outputs": [
    {
     "data": {
      "image/png": "[encoded data removed]",
      "text/plain": [
       "<Figure size 720x360 with 1 Axes>"
      ]
     },
     "metadata": {
      "needs_background": "light"
     },
     "output_type": "display_data"
    }
   ],
   "source": [
    "Convex_Area = df['Convex_Area'].head(10)\n",
    " \n",
    "# Figure Size\n",
    "fig = plt.figure(figsize =(10, 5))\n",
    " \n",
    "# Horizontal Bar Plot\n",
    "plt.bar(np.arange(10), Convex_Area[0:10])\n",
    "plt.ylim(Convex_Area.min() - 50, Convex_Area.max() + 50) \n",
    "# Show Plot\n",
    "plt.show()"
   ]
  },
  {
   "cell_type": "markdown",
   "id": "9f20a206",
   "metadata": {},
   "source": [
    "#### After Nomalize"
   ]
  },
  {
   "cell_type": "code",
   "execution_count": 30,
   "id": "8c762eab",
   "metadata": {},
   "outputs": [
    {
     "data": {
      "image/png": "[encoded data removed]",
      "text/plain": [
       "<Figure size 720x360 with 1 Axes>"
      ]
     },
     "metadata": {
      "needs_background": "light"
     },
     "output_type": "display_data"
    }
   ],
   "source": [
    "Convex_Area_scaled = df_scaled['Convex_Area'].head(10)\n",
    " \n",
    "# Figure Size\n",
    "fig = plt.figure(figsize =(10, 5))\n",
    " \n",
    "# Horizontal Bar Plot\n",
    "plt.bar(np.arange(10), Convex_Area_scaled[0:10])\n",
    " \n",
    "# Show Plot\n",
    "plt.show()"
   ]
  },
  {
   "cell_type": "markdown",
   "id": "9530959a",
   "metadata": {},
   "source": [
    "#### Before Nomalize"
   ]
  },
  {
   "cell_type": "code",
   "execution_count": 31,
   "id": "35f8292f",
   "metadata": {},
   "outputs": [
    {
     "data": {
      "image/png": "[encoded data removed]",
      "text/plain": [
       "<Figure size 720x360 with 1 Axes>"
      ]
     },
     "metadata": {
      "needs_background": "light"
     },
     "output_type": "display_data"
    }
   ],
   "source": [
    "Extent = df['Extent'].head(10)\n",
    " \n",
    "# Figure Size\n",
    "fig = plt.figure(figsize =(10, 5))\n",
    " \n",
    "# Horizontal Bar Plot\n",
    "plt.bar(np.arange(10), Extent[0:10])\n",
    "plt.ylim(Extent.min() - 0.005, Extent.max() + 0.005)  \n",
    "# Show Plot\n",
    "plt.show()"
   ]
  },
  {
   "cell_type": "markdown",
   "id": "0cec052f",
   "metadata": {},
   "source": [
    "#### After Nomalize"
   ]
  },
  {
   "cell_type": "code",
   "execution_count": 32,
   "id": "01b903a2",
   "metadata": {},
   "outputs": [
    {
     "data": {
      "image/png": "[encoded data removed]",
      "text/plain": [
       "<Figure size 720x360 with 1 Axes>"
      ]
     },
     "metadata": {
      "needs_background": "light"
     },
     "output_type": "display_data"
    }
   ],
   "source": [
    "Extent_scaled = df_scaled['Extent'].head(10)\n",
    " \n",
    "# Figure Size\n",
    "fig = plt.figure(figsize =(10, 5))\n",
    " \n",
    "# Horizontal Bar Plot\n",
    "plt.bar(np.arange(10), Extent_scaled[0:10])\n",
    " \n",
    "# Show Plot\n",
    "plt.show()"
   ]
  }
 ],
 "metadata": {
  "kernelspec": {
   "display_name": "Python 3 (ipykernel)",
   "language": "python",
   "name": "python3"
  },
  "language_info": {
   "codemirror_mode": {
    "name": "ipython",
    "version": 3
   },
   "file_extension": ".py",
   "mimetype": "text/x-python",
   "name": "python",
   "nbconvert_exporter": "python",
   "pygments_lexer": "ipython3",
   "version": "3.10.5"
  }
 },
 "nbformat": 4,
 "nbformat_minor": 5
}
